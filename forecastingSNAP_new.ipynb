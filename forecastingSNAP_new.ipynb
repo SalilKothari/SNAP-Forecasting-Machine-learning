{
  "cells": [
    {
      "cell_type": "code",
      "execution_count": null,
      "metadata": {
        "id": "T_y1nlgs1yf5"
      },
      "outputs": [],
      "source": [
        "# import dependencies for machine learning\n",
        "!pip install tensorflow\n",
        "import tensorflow as tf\n",
        "from tensorflow import keras\n",
        "from tensorflow.keras import layers\n",
        "from tensorflow.keras.models import Sequential\n",
        "from keras.layers import Dense\n",
        "\n",
        "\n",
        "\n",
        "from tensorflow.keras.layers import LSTM, Dense, Dropout, Bidirectional\n",
        "from tensorflow.keras.callbacks import ModelCheckpoint, TensorBoard\n",
        "from sklearn import preprocessing\n",
        "from sklearn.model_selection import train_test_split\n",
        "from sklearn import linear_model\n",
        "\n",
        "from collections import deque\n"
      ]
    },
    {
      "cell_type": "code",
      "execution_count": null,
      "metadata": {
        "id": "xpW3vA2O2cWu"
      },
      "outputs": [],
      "source": [
        "# import dependencies for math manipulation and files\n",
        "import numpy as np\n",
        "import pandas as pd\n",
        "from numpy import loadtxt\n",
        "import matplotlib.pyplot as plt\n",
        "from sklearn.preprocessing import scale\n",
        "from google.colab import files"
      ]
    },
    {
      "cell_type": "code",
      "execution_count": null,
      "metadata": {
        "colab": {
          "base_uri": "https://localhost:8080/",
          "height": 74,
          "resources": {
            "http://localhost:8080/nbextensions/google.colab/files.js": {
              "data": "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",
              "headers": [
                [
                  "content-type",
                  "application/javascript"
                ]
              ],
              "ok": true,
              "status": 200,
              "status_text": "OK"
            }
          }
        },
        "id": "0Hy4Iq1BTdCH",
        "outputId": "1fddcf1e-a5c6-4a15-ab9a-3ec29d4b0405"
      },
      "outputs": [
        {
          "output_type": "display_data",
          "data": {
            "text/plain": [
              "<IPython.core.display.HTML object>"
            ],
            "text/html": [
              "\n",
              "     <input type=\"file\" id=\"files-0b78c771-bad2-4ac5-b224-e64ebfc5ca53\" name=\"files[]\" multiple disabled\n",
              "        style=\"border:none\" />\n",
              "     <output id=\"result-0b78c771-bad2-4ac5-b224-e64ebfc5ca53\">\n",
              "      Upload widget is only available when the cell has been executed in the\n",
              "      current browser session. Please rerun this cell to enable.\n",
              "      </output>\n",
              "      <script src=\"/nbextensions/google.colab/files.js\"></script> "
            ]
          },
          "metadata": {}
        },
        {
          "output_type": "stream",
          "name": "stdout",
          "text": [
            "Saving dATA.csv to dATA (1).csv\n"
          ]
        }
      ],
      "source": [
        "#import the file\n",
        "uploaded = files.upload()"
      ]
    },
    {
      "cell_type": "code",
      "execution_count": null,
      "metadata": {
        "colab": {
          "base_uri": "https://localhost:8080/"
        },
        "id": "uHhSZ_7BcnH7",
        "outputId": "bdefdec3-210a-4ee9-f02b-969eaae210ad"
      },
      "outputs": [
        {
          "output_type": "stream",
          "name": "stdout",
          "text": [
            "     COUNTIES    2010    2011    2012    2013    2014    2015    2016    2017  \\\n",
            "0    KENTUCKY  814405  843904  868920  843219  788613  692587  654877  628373   \n",
            "1       ADAIR    3516    3704    3850    3707    3698    3285    3345    3218   \n",
            "2       ALLEN    3817    3892    4094    3859    3536    3133    2878    2723   \n",
            "3    ANDERSON    3025    3290    3064    2858    2538    2243    2316    2040   \n",
            "4     BALLARD    1278    1395    1476    1403    1245    1071    1000    1015   \n",
            "..        ...     ...     ...     ...     ...     ...     ...     ...     ...   \n",
            "116     WAYNE    5502    5785    6051    5878    5631    4909    4895    4922   \n",
            "117   WEBSTER    2215    2330    2303    2206    2139    1753    1678    1652   \n",
            "118   WHITLEY   12110   12314   12664   12181   11468   10193    9621    9527   \n",
            "119     WOLFE    3111    3114    3121    2940    2925    2541    2524    2483   \n",
            "120  WOODFORD    2625    2909    3065    2928    2803    2457    2541    2170   \n",
            "\n",
            "       2018    2019    2020    2021    INC      POP  LOW_STR%    2022  \n",
            "0    559634  518440  590192  551387  19450  4339367  0.048344  528278  \n",
            "1      2803    2780    3481    3048  29834    18656  0.046800    3154  \n",
            "2      2402    2377    2646    2292  16897    19956  0.008900    2329  \n",
            "3      1866    1657    1925    1691  24516    21421  0.014000    1587  \n",
            "4       957     841     889     799  23001     8249  0.031600     795  \n",
            "..      ...     ...     ...     ...    ...      ...       ...     ...  \n",
            "116    4143    4231    4755    4755  16109    20813  0.054700    4415  \n",
            "117    1544    1528    1680    1680  18879    13621  0.038600    1433  \n",
            "118    8671    8329    9024    9024  15258    35637  0.061000    8075  \n",
            "119    2304    2113    2196    2196  11214     7355  0.110900    1910  \n",
            "120    1875    1809    2039    1768  28501    24939  0.033100    1609  \n",
            "\n",
            "[121 rows x 17 columns]\n"
          ]
        }
      ],
      "source": [
        "#create the dataframe\n",
        "SNAP_df = pd.read_csv('dATA.csv', delimiter =\",\", usecols = ('COUNTIES','2010', '2011', '2012', '2013', '2014', '2015', '2016',\n",
        "                                                                 '2017', '2018', '2019', '2020', '2021', '2022', 'INC', 'POP', 'LOW_STR%'),  nrows = 121)\n",
        "\n",
        "print(SNAP_df[0:])"
      ]
    },
    {
      "cell_type": "code",
      "execution_count": null,
      "metadata": {
        "colab": {
          "base_uri": "https://localhost:8080/"
        },
        "id": "W-6IP7h9Y4UI",
        "outputId": "854e8ad4-181f-43c2-edda-511b703d8b78"
      },
      "outputs": [
        {
          "output_type": "stream",
          "name": "stdout",
          "text": [
            "Enter the row number for the county: 1\n",
            "Predicting Snap Recipients for given county in 2022\n",
            "[[3516. 3704. 3850. 3707. 3698. 3285. 3345. 3218. 2803. 2780. 3481. 3048.]]\n",
            "Scaling Data...\n",
            "[[0.68785047]\n",
            " [0.8635514 ]\n",
            " [1.        ]\n",
            " [0.86635514]\n",
            " [0.85794393]\n",
            " [0.47196262]\n",
            " [0.52803738]\n",
            " [0.40934579]\n",
            " [0.02149533]\n",
            " [0.        ]\n",
            " [0.65514019]\n",
            " [0.25046729]]\n",
            "12\n",
            "[[1.        ]\n",
            " [0.02149533]\n",
            " [0.52803738]\n",
            " [0.8635514 ]]\n",
            "Creating Training Data...\n",
            "[1.         0.02149533 0.52803738 0.8635514  0.68785047 0.65514019\n",
            " 0.         0.40934579 0.85794393 0.47196262]\n",
            "Creating Model...\n",
            "Compiling Model...\n",
            "Creating testing Data...\n",
            "[[0.68785047 0.8635514  1.         0.86635514 0.85794393 0.47196262\n",
            "  0.52803738 0.40934579 0.02149533 0.        ]\n",
            " [0.8635514  1.         0.86635514 0.85794393 0.47196262 0.52803738\n",
            "  0.40934579 0.02149533 0.         0.65514019]\n",
            " [1.         0.02149533 0.52803738 0.8635514  0.68785047 0.65514019\n",
            "  0.         0.40934579 0.85794393 0.47196262]]\n",
            "(3, 10)\n",
            "BEFORE PREDICT XTEST SHAPE : (3, 10, 1)\n",
            "Running Model...\n",
            "after reshape .. predicted_recipient_count..\n",
            "[[0.54530853]\n",
            " [0.5461858 ]\n",
            " [0.4809422 ]]\n",
            "after invert..predicted_stock_price..\n",
            "(3, 1)\n",
            "(30, 1)\n",
            "INITIAL MODEL\n",
            "3363\n",
            "RUNNING BOOSTED MODEL\n",
            "3223\n",
            "TEST\n",
            "3293\n",
            "FINAL\n",
            "3223\n"
          ]
        },
        {
          "output_type": "stream",
          "name": "stderr",
          "text": [
            "/usr/local/lib/python3.7/dist-packages/sklearn/base.py:451: UserWarning: X does not have valid feature names, but LinearRegression was fitted with feature names\n",
            "  \"X does not have valid feature names, but\"\n"
          ]
        }
      ],
      "source": [
        "\n",
        "training_x1 = (2010, 2011, 2012, 2013, 2014, 2015, 2016, 2017, 2018, 2019, 2020, 2021)\n",
        "\n",
        "county = input(\"Enter the row number for the county: \")\n",
        "county = int(county)\n",
        "\n",
        "print(\"Predicting Snap Recipients for given county in 2022\")\n",
        "\n",
        "SNAP_df['INDEX'] = (np.arange(1,122))\n",
        "SNAP_df[:9]\n",
        "\n",
        "SNAP_df.loc[county,'INC']\n",
        "SNAP_df.loc[county,'POP']\n",
        "SNAP_df.loc[county,'LOW_STR%']\n",
        "\n",
        "training_SNAP_data_2 = np.loadtxt('dATA.csv', delimiter=',', skiprows = 1, usecols=(1,2,3,4,5,6,7,8,9,10,11,12))\n",
        "training_SNAP_data_2\n",
        "\n",
        "training_y1 = training_SNAP_data_2[county:county+1]\n",
        "training_y1\n",
        "\n",
        "#scale training data\n",
        "from sklearn.preprocessing import MinMaxScaler\n",
        "scale = MinMaxScaler(feature_range = (0, 1))\n",
        "\n",
        "training_y1 = np.array(training_y1)\n",
        "\n",
        "print(training_y1)\n",
        "\n",
        "\n",
        "training_y1_length = len(training_y1)\n",
        "training_y1 = np.reshape(training_y1, (12,1))\n",
        "\n",
        "training_data_scaled = scale.fit_transform(training_y1)\n",
        "\n",
        "print('Scaling Data...')\n",
        "print(training_data_scaled)\n",
        "\n",
        "\n",
        "\n",
        "\n",
        "ix_train, ix_test, iy_train, iy_test = train_test_split(training_data_scaled, training_x1, test_size=0.33)\n",
        "\n",
        "\n",
        "X_train = []\n",
        "y_train = []\n",
        "\n",
        "print(training_data_scaled.shape[0])\n",
        "\n",
        "\n",
        "predict_step = 10\n",
        "\n",
        "\n",
        "for i in range(predict_step, training_data_scaled.shape[0]):\n",
        "  X_train.append(training_data_scaled[i-predict_step:i, 0])\n",
        "  y_train.append(training_data_scaled[i, 0])\n",
        "\n",
        "print(ix_test)\n",
        "\n",
        "#--------------------------- Shaping data for model -------------------------------------\n",
        "\n",
        "print('Creating Training Data...')\n",
        "\n",
        "#printing X_train, y_train\n",
        "X_train, y_train = np.array(X_train), np.array(y_train)\n",
        "\n",
        "X_train = np.reshape(X_train, (X_train.shape[0], X_train.shape[1], 1))\n",
        "\n",
        "to_add = ix_train[:6,]\n",
        "to_add.reshape(1,6)\n",
        "\n",
        "ix_test = ix_test[0:6]\n",
        "ix_test = np.append(ix_test, to_add)\n",
        "print(ix_test)\n",
        "\n",
        "ix_test = ix_test[0:10]\n",
        "ix_test.shape\n",
        "\n",
        "\n",
        "\n",
        "#--------------------------- Creating model -------------------------------------\n",
        "\n",
        "model = Sequential()\n",
        "#original\n",
        "model.add(LSTM(units = 50, return_sequences = True, input_shape = (X_train.shape[1], 1)))\n",
        "\n",
        "\n",
        "model.add(Dropout(0.2))\n",
        "model.add(LSTM(units = 50, return_sequences = True))\n",
        "model.add(Dropout(0.2))\n",
        "model.add(LSTM(units = 50, return_sequences = True))\n",
        "model.add(Dropout(0.2))\n",
        "model.add(LSTM(units = 50))\n",
        "model.add(Dropout(0.2))\n",
        "model.add(Dense(units = 1, kernel_initializer='normal'))\n",
        "\n",
        "print('Creating Model...')\n",
        "\n",
        "model.compile(optimizer = 'adam', loss = 'mean_squared_error')\n",
        "\n",
        "print('Compiling Model...')\n",
        "model.fit(X_train, y_train, epochs = 20, verbose=0, batch_size = 4, shuffle=True)\n",
        "\n",
        "\n",
        "#--------------------------- Creating testing sets model -------------------------------------\n",
        "\n",
        "X_test = []\n",
        "y_test = []\n",
        "\n",
        "years_ahead = 1\n",
        "# training_data_scaled\n",
        "for i in range(predict_step, training_data_scaled.shape[0]):\n",
        "  X_test.append(training_data_scaled[i-predict_step:i, 0])\n",
        "\n",
        "\n",
        "for i in range(predict_step, predict_step+ years_ahead):\n",
        "  X_test.append(ix_test[i-predict_step:i+4])\n",
        "\n",
        "print('Creating testing Data...')\n",
        "\n",
        "X_test = np.array(X_test)\n",
        "\n",
        "print(X_test)\n",
        "\n",
        "print(X_test.shape)\n",
        "\n",
        "X_test = np.reshape(X_test, (X_test.shape[0], X_test.shape[1], 1))\n",
        "\n",
        "print(\"BEFORE PREDICT XTEST SHAPE : \" + str(X_test.shape))\n",
        "\n",
        "\n",
        "\n",
        "\n",
        "\n",
        "predicted_recipient_count = model.predict(X_test)\n",
        "\n",
        "print('Running Model...')\n",
        "\n",
        "predicted_recipient_count = predicted_recipient_count.reshape(-1, 1)\n",
        "print('after reshape .. predicted_recipient_count..')\n",
        "print(predicted_recipient_count[:3])\n",
        "predicted_recipient_count = scale.inverse_transform(predicted_recipient_count)\n",
        "print('after invert..predicted_stock_price..')\n",
        "\n",
        "\n",
        "\n",
        "\n",
        "\n",
        "X_test = X_test.reshape(-1,1)\n",
        "X_test = scale.inverse_transform(X_test)\n",
        "\n",
        "print(predicted_recipient_count.shape)\n",
        "print(X_test.shape)\n",
        "\n",
        "predicted_recipient_count = np.array(predicted_recipient_count)\n",
        "predicted_recipient_count = predicted_recipient_count[0]\n",
        "predicted_recipient_count = int(predicted_recipient_count)\n",
        "print(\"INITIAL MODEL\")\n",
        "print(predicted_recipient_count)\n",
        "\n",
        "#--------------------------- model boosting -------------------------------------\n",
        "\n",
        "\n",
        "model_boost = linear_model.LinearRegression()\n",
        "model_boost.fit(SNAP_df[['2020', 'INC', 'POP', 'LOW_STR%']], SNAP_df['2021'])\n",
        "\n",
        "county_inc = SNAP_df.loc[county,'INC']\n",
        "county_pop = SNAP_df.loc[county,'POP']\n",
        "county_risk = SNAP_df.loc[county,'LOW_STR%']\n",
        "\n",
        "X = (predicted_recipient_count, county_inc, county_pop, county_risk)\n",
        "X = np.array(X)\n",
        "X = X.reshape(1,-1)\n",
        "\n",
        "print(\"RUNNING BOOSTED MODEL\")\n",
        "\n",
        "finalz = model_boost.predict(X)\n",
        "predicted_boosted_count = int(finalz)\n",
        "print(predicted_boosted_count)\n",
        "\n",
        "final_predicted_recipient_count = int((predicted_boosted_count+predicted_recipient_count)/2)\n",
        "print(\"TEST\")\n",
        "print(final_predicted_recipient_count)\n",
        "county_2021 = SNAP_df.loc[county,'2021']\n",
        "\n",
        "# -------------------------- Conditions -------------------------------------\n",
        "\n",
        "if(county_2021<2000):\n",
        "  print(\"FINAL\")\n",
        "  finalll = predicted_recipient_count\n",
        "  print(finalll)\n",
        "elif(county_2021>7000):\n",
        "  print(\"FINAL\")\n",
        "  finalll = final_predicted_recipient_count\n",
        "  print(finalll)\n",
        "elif(county_2021>3000):\n",
        "  print(\"FINAL\")\n",
        "  finalll = predicted_boosted_count\n",
        "  print(finalll)\n",
        "else:\n",
        "  print(\"FINAL\")\n",
        "  finalll = final_predicted_recipient_count\n",
        "  print(finalll)\n"
      ]
    },
    {
      "cell_type": "code",
      "execution_count": null,
      "metadata": {
        "colab": {
          "base_uri": "https://localhost:8080/",
          "height": 501
        },
        "id": "lqdCIoTArM3N",
        "outputId": "f2d4f5af-893f-41d4-e168-802a37b70750"
      },
      "outputs": [
        {
          "output_type": "stream",
          "name": "stdout",
          "text": [
            "Plotting...\n"
          ]
        },
        {
          "output_type": "display_data",
          "data": {
            "text/plain": [
              "<Figure size 1152x576 with 1 Axes>"
            ],
            "image/png": "[encoded data removed]"
          },
          "metadata": {
            "needs_background": "light"
          }
        }
      ],
      "source": [
        "#--------------------------- Plotting (final) -------------------------------------\n",
        "print('Plotting...')\n",
        "\n",
        "# predicted_stock_price = sc.inverse_transform(predicted_stock_price)\n",
        "plt.figure(figsize = (16,8))\n",
        "last_of_y = int(training_y1[len(training_y1)-1])\n",
        "y_forplot = (last_of_y, finalll)\n",
        "\n",
        "x_axis_marks = ['2010', '2011', '2012', '2013', '2014', '2015', '2016', '2017', '2018', '2019', '2020', '2021']\n",
        "small_markers = ['2021', '2022']\n",
        "plt.plot(x_axis_marks, training_y1, color = 'red', label = 'Real Recipient Count')\n",
        "plt.plot(small_markers, y_forplot, color = 'blue', label = 'Predicted Recipient Count')\n",
        "\n",
        "\n",
        "actual_2022 = SNAP_df['2022'][county]\n",
        "actual_forplot = (last_of_y, actual_2022)\n",
        "plt.plot(small_markers, actual_forplot, color = 'red', label = 'Actual 2022 count')\n",
        "#plt.xticks(training_x1, x_axis_marks)\n",
        "\n",
        "#plt.xticks(predicted_recipient_count, x_axis_marks)\n",
        "plt.legend()\n",
        "plt.show()"
      ]
    }
  ],
  "metadata": {
    "colab": {
      "provenance": []
    },
    "kernelspec": {
      "display_name": "Python 3",
      "name": "python3"
    },
    "language_info": {
      "name": "python"
    }
  },
  "nbformat": 4,
  "nbformat_minor": 0
}